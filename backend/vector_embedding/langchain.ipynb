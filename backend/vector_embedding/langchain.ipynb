{
 "cells": [
  {
   "cell_type": "markdown",
   "id": "28c1a2e1",
   "metadata": {},
   "source": [
    "Mastering Natural Language to SQL with LangChain and LangSmith\n",
    "https://teams.microsoft.com/l/message/19:8eee5e69-5374-47d9-9fd4-bd4237aa9c29_c39c52e7-79f5-49e2-8e6d-7def8d38f1bd@unq.gbl.spaces/1751906851446?context=%7B%22contextType%22%3A%22chat%22%7D\n",
    "\n",
    "https://teams.microsoft.com/l/message/19:8eee5e69-5374-47d9-9fd4-bd4237aa9c29_c39c52e7-79f5-49e2-8e6d-7def8d38f1bd@unq.gbl.spaces/1751906894700?context=%7B%22contextType%22%3A%22chat%22%7D\n",
    "\n",
    "Agentic AI Tutorial for Beginners | Langgraph Tutorial\n",
    "https://teams.microsoft.com/l/message/19:8eee5e69-5374-47d9-9fd4-bd4237aa9c29_c39c52e7-79f5-49e2-8e6d-7def8d38f1bd@unq.gbl.spaces/1751906912745?context=%7B%22contextType%22%3A%22chat%22%7D"
   ]
  },
  {
   "cell_type": "markdown",
   "id": "fcaece20",
   "metadata": {},
   "source": [
    "prompt = `Okay, I did some research on how to implement the code structure/workflow. Langchain, Langgraph, Langsmith has a lot of functionality that I am looking for. `"
   ]
  },
  {
   "cell_type": "code",
   "execution_count": 1,
   "id": "95188301",
   "metadata": {},
   "outputs": [],
   "source": [
    "import os\n",
    "import pandas as pd\n",
    "from sqlalchemy import create_engine\n",
    "from langchain.embeddings.openai import OpenAIEmbeddings\n",
    "from langchain.vectorstores import Chroma\n",
    "from langchain.chat_models import ChatOpenAI\n",
    "from langchain.schema import Document\n",
    "from langchain.chains import RetrievalQA"
   ]
  },
  {
   "cell_type": "code",
   "execution_count": null,
   "id": "dd87f052",
   "metadata": {},
   "outputs": [],
   "source": [
    "engine = create_engine(\"postgresqlL//user:password@host:port/dbname\")\n",
    "table_names = [\"customers\", \"categories\", \"products\"]"
   ]
  },
  {
   "cell_type": "code",
   "execution_count": null,
   "id": "0003884f",
   "metadata": {},
   "outputs": [],
   "source": [
    "embedding_func = OpenAIEmbeddings(model='text-embedding-ada-002')\n",
    "llm = ChatOpenAI(model_name=\"gpt-3.5-turbo\")\n",
    "vector_store = Chroma(embedding_function=embedding_func, persist_directory=\"chroma_db\")"
   ]
  },
  {
   "cell_type": "code",
   "execution_count": null,
   "id": "06b8875a",
   "metadata": {},
   "outputs": [],
   "source": [
    "for table in table_names:\n",
    "  df = pd.read_sql_table(table, engine)\n",
    "  text_cols = [col for col in df.columns if df[col].type == 'object' and 'id' not in col.lower()]\n",
    "  docs = []\n",
    "  for _, row in df.iterrows():\n",
    "    "
   ]
  }
 ],
 "metadata": {
  "kernelspec": {
   "display_name": "t2sql",
   "language": "python",
   "name": "python3"
  },
  "language_info": {
   "codemirror_mode": {
    "name": "ipython",
    "version": 3
   },
   "file_extension": ".py",
   "mimetype": "text/x-python",
   "name": "python",
   "nbconvert_exporter": "python",
   "pygments_lexer": "ipython3",
   "version": "3.13.5"
  }
 },
 "nbformat": 4,
 "nbformat_minor": 5
}
